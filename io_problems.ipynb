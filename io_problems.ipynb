{
 "cells": [
  {
   "cell_type": "code",
   "execution_count": 14,
   "metadata": {},
   "outputs": [
    {
     "name": "stdout",
     "output_type": "stream",
     "text": [
      "enter values:\n",
      "4\n",
      "5\n",
      "y is greater than x by: 1\n"
     ]
    }
   ],
   "source": [
    "print'enter values:'\n",
    "x=input()\n",
    "y=input()\n",
    "if x>y:\n",
    "    print \"x is greater than y by:\",x-y\n",
    "else:\n",
    "    print\"y is greater than x by:\",y-x\n",
    "    "
   ]
  },
  {
   "cell_type": "code",
   "execution_count": 16,
   "metadata": {},
   "outputs": [
    {
     "name": "stdout",
     "output_type": "stream",
     "text": [
      "enter the product quantity:\n",
      "12\n",
      "total cost: 1080.0\n"
     ]
    }
   ],
   "source": [
    "cost =100\n",
    "print'enter the product quantity:'\n",
    "quan=input()\n",
    "final_cost=cost*quan\n",
    "if final_cost<1000:\n",
    "    print'total cost:',final_cost\n",
    "\n",
    "else:\n",
    "    final_cost=final_cost-0.1*final_cost\n",
    "    print'total cost:',final_cost"
   ]
  },
  {
   "cell_type": "code",
   "execution_count": 17,
   "metadata": {},
   "outputs": [
    {
     "name": "stdout",
     "output_type": "stream",
     "text": [
      "enter your salary:\n",
      "50000.0\n",
      "enter your years of service:\n",
      "6\n",
      "your new salary is: 52500.0\n"
     ]
    }
   ],
   "source": [
    "print'enter your salary:'\n",
    "sal=float(raw_input())\n",
    "print'enter your years of service:'\n",
    "yrs=input()\n",
    "if yrs>5:\n",
    "    bonus = 0.05*sal\n",
    "    print 'your new salary is:',sal+bonus\n",
    "else:\n",
    "    print'your salary is:',sal\n",
    "    "
   ]
  },
  {
   "cell_type": "code",
   "execution_count": 24,
   "metadata": {},
   "outputs": [
    {
     "name": "stdout",
     "output_type": "stream",
     "text": [
      "number of classes held:\n",
      "100\n",
      "number of classes attended:\n",
      "75\n",
      "u are allowed to sit\n"
     ]
    }
   ],
   "source": [
    "print'number of classes held:'\n",
    "clh=input()\n",
    "print'number of classes attended:'\n",
    "cla=input()\n",
    "percentage=(cla/float(clh))*100\n",
    "if percentage>=75:\n",
    "    print'u are allowed to sit'\n",
    "else:\n",
    "    print'u are not allowed'"
   ]
  },
  {
   "cell_type": "code",
   "execution_count": 11,
   "metadata": {},
   "outputs": [
    {
     "name": "stdout",
     "output_type": "stream",
     "text": [
      "enter the year to check:\n",
      "2000\n",
      "leap year!\n"
     ]
    }
   ],
   "source": [
    "print\"enter the year to check:\"\n",
    "year=input()\n",
    "if year%4==0 and year%100!=0:\n",
    "    print'leap year!'\n",
    "\n",
    "elif year%4==0 and year%100==0:\n",
    "    if year%400==0:\n",
    "            print'leap year!'\n",
    "    else:      \n",
    "            print'not a leap year'\n",
    "            \n",
    "else:\n",
    "    print'not a leap year'\n",
    "            "
   ]
  },
  {
   "cell_type": "code",
   "execution_count": 13,
   "metadata": {},
   "outputs": [
    {
     "name": "stdout",
     "output_type": "stream",
     "text": [
      "enter number\n",
      "3576\n",
      "new number is: 6753\n"
     ]
    }
   ],
   "source": [
    "print\"enter number\"\n",
    "num=input()\n",
    "\n",
    "first_num=num/1000\n",
    "rem=num%1000\n",
    "\n",
    "\n",
    "second_num=rem/100\n",
    "rem=rem%100\n",
    "\n",
    "\n",
    "third_num=rem/10\n",
    "fourth_num=rem%10\n",
    "\n",
    "new_num=fourth_num*1000+third_num*100+second_num*10+first_num\n",
    "print\"new number is:\",new_num"
   ]
  },
  {
   "cell_type": "code",
   "execution_count": 4,
   "metadata": {},
   "outputs": [
    {
     "name": "stdout",
     "output_type": "stream",
     "text": [
      "enter the lower limit of the dice:\n",
      "1\n",
      "enter the upper limit of the dice:\n",
      "6\n",
      "print q to quit and enter to continue:\n",
      "->->->2\n",
      "\n",
      "->->->4\n",
      "\n",
      "->->->6\n",
      "\n",
      "->->->6\n",
      "\n",
      "->->->5\n",
      "\n",
      "->->->5\n",
      "\n",
      "->->->4\n",
      "\n",
      "->->->6\n",
      "\n",
      "->->->3\n",
      "\n",
      "->->->2\n",
      "q\n"
     ]
    }
   ],
   "source": [
    "from random import randint\n",
    "\n",
    "print\"enter the lower limit of the dice:\"\n",
    "a=input()\n",
    "print\"enter the upper limit of the dice:\"\n",
    "b=input()\n",
    "print\"print q to quit and enter to continue:\"\n",
    "while True:\n",
    "    print'->->->'+str(randint(a,b))\n",
    "    if raw_input()=='q':\n",
    "        break;"
   ]
  },
  {
   "cell_type": "code",
   "execution_count": 7,
   "metadata": {},
   "outputs": [
    {
     "name": "stdout",
     "output_type": "stream",
     "text": [
      "enter numbers:\n",
      "1\n",
      "enter numbers:\n",
      "2\n",
      "enter numbers:\n",
      "3\n",
      "enter numbers:\n",
      "4\n",
      "enter numbers:\n",
      "5\n",
      "enter numbers:\n",
      "6\n",
      "enter numbers:\n",
      "7\n",
      "enter numbers:\n",
      "8\n",
      "enter numbers:\n",
      "9\n",
      "enter numbers:\n",
      "10\n",
      "average is: 5.5\n"
     ]
    }
   ],
   "source": [
    "a=1\n",
    "sum=0\n",
    "while a<=10:\n",
    "    print\"enter numbers:\"\n",
    "    a=input()\n",
    "    sum=sum+a\n",
    "    a+=1\n",
    "print\"average is:\",sum/10.0\n"
   ]
  },
  {
   "cell_type": "code",
   "execution_count": null,
   "metadata": {},
   "outputs": [
    {
     "name": "stdout",
     "output_type": "stream",
     "text": [
      "enter the number you want the table to be printed of:\n"
     ]
    }
   ],
   "source": [
    "print'enter the number you want the table to be printed of:'\n",
    "num=input()\n",
    "a=1\n",
    "while a<=10:\n",
    "    print a*num\n",
    "    a=a+1"
   ]
  },
  {
   "cell_type": "code",
   "execution_count": 12,
   "metadata": {},
   "outputs": [
    {
     "name": "stdout",
     "output_type": "stream",
     "text": [
      "enter number whose factorial u want\n",
      "4\n",
      "factorial is: 24\n"
     ]
    }
   ],
   "source": [
    "print\"enter number whose factorial u want\"\n",
    "a=input()\n",
    "fact=1\n",
    "i=1\n",
    "\n",
    "while i<=a:\n",
    "    fact=fact*i\n",
    "    i+=1\n",
    "    \n",
    "print\"factorial is:\",fact\n",
    "    \n"
   ]
  },
  {
   "cell_type": "code",
   "execution_count": 5,
   "metadata": {
    "collapsed": true
   },
   "outputs": [],
   "source": [
    "def prime(num):\n",
    "\n",
    "    for n in range(2,num):\n",
    "        if num%n==0:\n",
    "            print\"not prime\"\n",
    "            break\n",
    "        else:\n",
    "            print\"prime\""
   ]
  },
  {
   "cell_type": "code",
   "execution_count": 6,
   "metadata": {},
   "outputs": [
    {
     "name": "stdout",
     "output_type": "stream",
     "text": [
      "prime\n"
     ]
    }
   ],
   "source": [
    "prime(3)"
   ]
  },
  {
   "cell_type": "code",
   "execution_count": 7,
   "metadata": {
    "collapsed": true
   },
   "outputs": [],
   "source": [
    "first = lambda x:x[0]"
   ]
  },
  {
   "cell_type": "code",
   "execution_count": 8,
   "metadata": {},
   "outputs": [
    {
     "data": {
      "text/plain": [
       "'h'"
      ]
     },
     "execution_count": 8,
     "metadata": {},
     "output_type": "execute_result"
    }
   ],
   "source": [
    "first('hello')"
   ]
  },
  {
   "cell_type": "code",
   "execution_count": 28,
   "metadata": {
    "collapsed": true
   },
   "outputs": [],
   "source": [
    "def fact(x):\n",
    "    \n",
    "    if x==1 or x==0:\n",
    "        return 1\n",
    "    \n",
    "    else:\n",
    "        return x*fact(x-1)\n",
    "        "
   ]
  },
  {
   "cell_type": "code",
   "execution_count": 29,
   "metadata": {},
   "outputs": [
    {
     "data": {
      "text/plain": [
       "120"
      ]
     },
     "execution_count": 29,
     "metadata": {},
     "output_type": "execute_result"
    }
   ],
   "source": [
    "fact(5)"
   ]
  },
  {
   "cell_type": "code",
   "execution_count": 24,
   "metadata": {},
   "outputs": [
    {
     "data": {
      "text/plain": [
       "24"
      ]
     },
     "execution_count": 24,
     "metadata": {},
     "output_type": "execute_result"
    }
   ],
   "source": [
    "fact(4)"
   ]
  },
  {
   "cell_type": "code",
   "execution_count": 18,
   "metadata": {
    "collapsed": true
   },
   "outputs": [],
   "source": [
    "def factorial(x):\n",
    "\tif x==0 or x==1:\n",
    "\t\treturn 1\n",
    "\telse:\n",
    "\t\treturn x*factorial(x-1)"
   ]
  },
  {
   "cell_type": "code",
   "execution_count": 19,
   "metadata": {},
   "outputs": [
    {
     "data": {
      "text/plain": [
       "24"
      ]
     },
     "execution_count": 19,
     "metadata": {},
     "output_type": "execute_result"
    }
   ],
   "source": [
    "factorial(4)"
   ]
  },
  {
   "cell_type": "code",
   "execution_count": 30,
   "metadata": {
    "collapsed": true
   },
   "outputs": [],
   "source": [
    "#fibonacci using recursion\n",
    "prev={0:0,1:1}\n",
    "\n",
    "def fib(n):\n",
    "    if prev.has_key(n):\n",
    "        return prev[n]\n",
    "    else:\n",
    "        fi=fib(n-1)+fib(n-2)\n",
    "        prev[n]=fi\n",
    "        return fi"
   ]
  },
  {
   "cell_type": "code",
   "execution_count": 39,
   "metadata": {},
   "outputs": [
    {
     "name": "stdout",
     "output_type": "stream",
     "text": [
      "0\n",
      "1\n",
      "1\n",
      "2\n",
      "3\n",
      "5\n"
     ]
    }
   ],
   "source": [
    "print fib(0) \n",
    "print fib(1)  \n",
    "print fib(2)\n",
    "print fib(3)\n",
    "print fib(4) \n",
    "print fib(5)"
   ]
  },
  {
   "cell_type": "code",
   "execution_count": 1,
   "metadata": {
    "collapsed": true
   },
   "outputs": [],
   "source": [
    "class Circle(object):\n",
    "    pi=3.14\n",
    "    def __init__(self,radius):\n",
    "        self.radius=radius\n",
    "        \n",
    "    def getArea(self):\n",
    "        return Circle.pi*(self.radius**2)\n",
    "    \n",
    "    def getCircum(self):\n",
    "        return 2*Circle.pi*self.radius"
   ]
  },
  {
   "cell_type": "code",
   "execution_count": 3,
   "metadata": {},
   "outputs": [],
   "source": [
    "c=Circle(4)"
   ]
  },
  {
   "cell_type": "code",
   "execution_count": 5,
   "metadata": {},
   "outputs": [
    {
     "data": {
      "text/plain": [
       "50.24"
      ]
     },
     "execution_count": 5,
     "metadata": {},
     "output_type": "execute_result"
    }
   ],
   "source": [
    "c.getArea()"
   ]
  },
  {
   "cell_type": "code",
   "execution_count": 6,
   "metadata": {},
   "outputs": [
    {
     "data": {
      "text/plain": [
       "25.12"
      ]
     },
     "execution_count": 6,
     "metadata": {},
     "output_type": "execute_result"
    }
   ],
   "source": [
    "c.getCircum()"
   ]
  },
  {
   "cell_type": "code",
   "execution_count": 11,
   "metadata": {
    "collapsed": true
   },
   "outputs": [],
   "source": [
    "class Time(object):\n",
    "    \n",
    "    def __init__(self,mins,hrs):\n",
    "        self.mins=mins\n",
    "        self.hrs=hrs\n",
    "        \n",
    "    def addTime(self,t1,t2):\n",
    "        t3=Time(0,0)\n",
    "        if t1.mins+t2.mins>60:\n",
    "            t3.hrs=(t1.mins+t2.mins)/60\n",
    "            t3.hrs=t3.hrs+t2.hrs+t1.hrs\n",
    "            t3.mins = (t1.mins+t2.mins)-(((t1.mins+t2.mins)/60)*60)\n",
    "            return t3\n",
    "    \n",
    "    def displayTime(self):\n",
    "        print\"time is:\",self.hrs,\"hours and\",self.mins,\"minutes\"\n",
    "    \n",
    "    def displayMinutes(self):\n",
    "        return (self.hrs*60)+self.mins"
   ]
  },
  {
   "cell_type": "code",
   "execution_count": 12,
   "metadata": {
    "collapsed": true
   },
   "outputs": [],
   "source": [
    "t=Time('6','12')"
   ]
  },
  {
   "cell_type": "code",
   "execution_count": 13,
   "metadata": {},
   "outputs": [
    {
     "name": "stdout",
     "output_type": "stream",
     "text": [
      "time is: 12 hours and 6 minutes\n"
     ]
    }
   ],
   "source": [
    "t.displayTime()"
   ]
  },
  {
   "cell_type": "code",
   "execution_count": 14,
   "metadata": {},
   "outputs": [
    {
     "data": {
      "text/plain": [
       "'1212121212121212121212121212121212121212121212121212121212121212121212121212121212121212121212121212121212121212121212126'"
      ]
     },
     "execution_count": 14,
     "metadata": {},
     "output_type": "execute_result"
    }
   ],
   "source": [
    "t.displayMinutes()"
   ]
  },
  {
   "cell_type": "code",
   "execution_count": 22,
   "metadata": {
    "collapsed": true
   },
   "outputs": [],
   "source": [
    "a=Time(4,12)"
   ]
  },
  {
   "cell_type": "code",
   "execution_count": 23,
   "metadata": {
    "collapsed": true
   },
   "outputs": [],
   "source": [
    "b=Time(7,13)"
   ]
  },
  {
   "cell_type": "code",
   "execution_count": 27,
   "metadata": {},
   "outputs": [],
   "source": [
    "c=Time(8,14)"
   ]
  },
  {
   "cell_type": "code",
   "execution_count": 29,
   "metadata": {
    "collapsed": true
   },
   "outputs": [],
   "source": [
    "d=Time.addTime(a,b,c)"
   ]
  },
  {
   "cell_type": "code",
   "execution_count": 34,
   "metadata": {},
   "outputs": [
    {
     "name": "stdout",
     "output_type": "stream",
     "text": [
      "time is: 14 hours and 8 minutes\n"
     ]
    }
   ],
   "source": [
    "c.displayTime()"
   ]
  },
  {
   "cell_type": "code",
   "execution_count": 36,
   "metadata": {},
   "outputs": [],
   "source": [
    "#recursion\n",
    "def power(a,b):\n",
    "    if b==1:\n",
    "        return a\n",
    "    else:\n",
    "        return a*power(a,b-1)"
   ]
  },
  {
   "cell_type": "code",
   "execution_count": 39,
   "metadata": {},
   "outputs": [
    {
     "data": {
      "text/plain": [
       "36"
      ]
     },
     "execution_count": 39,
     "metadata": {},
     "output_type": "execute_result"
    }
   ],
   "source": [
    "power(6,2)"
   ]
  },
  {
   "cell_type": "code",
   "execution_count": 1,
   "metadata": {},
   "outputs": [
    {
     "name": "stdout",
     "output_type": "stream",
     "text": [
      "enter name:ishaan\n",
      "enter age:21\n"
     ]
    }
   ],
   "source": [
    "name=input(\"enter name:\")\n",
    "age=int(input(\"enter age:\"))\n"
   ]
  },
  {
   "cell_type": "code",
   "execution_count": 4,
   "metadata": {},
   "outputs": [
    {
     "name": "stdout",
     "output_type": "stream",
     "text": [
      "ishaan is 21 years old\n"
     ]
    }
   ],
   "source": [
    "print(\"%s is %d years old\"%(name,age))"
   ]
  },
  {
   "cell_type": "code",
   "execution_count": 13,
   "metadata": {},
   "outputs": [
    {
     "name": "stdout",
     "output_type": "stream",
     "text": [
      "The banana costs 24.00 cents\n"
     ]
    }
   ],
   "source": [
    "item_dict={'item':'banana','cost':24}\n",
    "print(\"The %(item)s costs %(cost)5.2f cents\"%(item_dict))"
   ]
  },
  {
   "cell_type": "code",
   "execution_count": 17,
   "metadata": {},
   "outputs": [
    {
     "name": "stdout",
     "output_type": "stream",
     "text": [
      "enter word list:ishaan is good\n"
     ]
    }
   ],
   "source": [
    "word_list = input(\"enter word list:\").split(\" \")"
   ]
  },
  {
   "cell_type": "code",
   "execution_count": 18,
   "metadata": {},
   "outputs": [
    {
     "data": {
      "text/plain": [
       "['ishaan', 'is', 'good']"
      ]
     },
     "execution_count": 18,
     "metadata": {},
     "output_type": "execute_result"
    }
   ],
   "source": [
    "word_list"
   ]
  },
  {
   "cell_type": "code",
   "execution_count": 19,
   "metadata": {},
   "outputs": [],
   "source": [
    "letter_list=[]"
   ]
  },
  {
   "cell_type": "code",
   "execution_count": 20,
   "metadata": {},
   "outputs": [],
   "source": [
    "for word in word_list:\n",
    "    for letter in word:\n",
    "        letter_list.append(letter)"
   ]
  },
  {
   "cell_type": "code",
   "execution_count": 21,
   "metadata": {},
   "outputs": [
    {
     "data": {
      "text/plain": [
       "['i', 's', 'h', 'a', 'a', 'n', 'i', 's', 'g', 'o', 'o', 'd']"
      ]
     },
     "execution_count": 21,
     "metadata": {},
     "output_type": "execute_result"
    }
   ],
   "source": [
    "letter_list"
   ]
  },
  {
   "cell_type": "code",
   "execution_count": 22,
   "metadata": {},
   "outputs": [],
   "source": [
    "ch_list = [ch.upper() for ch in 'ishaan' if ch not in 'aeiou']"
   ]
  },
  {
   "cell_type": "code",
   "execution_count": 23,
   "metadata": {},
   "outputs": [
    {
     "data": {
      "text/plain": [
       "['S', 'H', 'N']"
      ]
     },
     "execution_count": 23,
     "metadata": {},
     "output_type": "execute_result"
    }
   ],
   "source": [
    "ch_list"
   ]
  },
  {
   "cell_type": "code",
   "execution_count": 26,
   "metadata": {},
   "outputs": [],
   "source": [
    "lis = [ch.lower() for ch in 'NAKUL' if ch not in 'AEIOU']"
   ]
  },
  {
   "cell_type": "code",
   "execution_count": 27,
   "metadata": {},
   "outputs": [
    {
     "data": {
      "text/plain": [
       "['n', 'k', 'l']"
      ]
     },
     "execution_count": 27,
     "metadata": {},
     "output_type": "execute_result"
    }
   ],
   "source": [
    "lis"
   ]
  },
  {
   "cell_type": "code",
   "execution_count": 9,
   "metadata": {},
   "outputs": [
    {
     "name": "stdout",
     "output_type": "stream",
     "text": [
      "0\n",
      "1\n",
      "2\n"
     ]
    }
   ],
   "source": [
    "for i in range(0,3):\n",
    "    print(i),"
   ]
  },
  {
   "cell_type": "code",
   "execution_count": 15,
   "metadata": {},
   "outputs": [
    {
     "name": "stdout",
     "output_type": "stream",
     "text": [
      "0123456789"
     ]
    }
   ],
   "source": [
    "for i in range(10):\n",
    "    print (i,end=\"\")"
   ]
  },
  {
   "cell_type": "code",
   "execution_count": 8,
   "metadata": {},
   "outputs": [
    {
     "name": "stdout",
     "output_type": "stream",
     "text": [
      "4\n",
      "0 1 4 9 "
     ]
    }
   ],
   "source": [
    "num = int(input())\n",
    "for i in range(num):\n",
    "    print(i**2,end=' ')"
   ]
  },
  {
   "cell_type": "code",
   "execution_count": 18,
   "metadata": {},
   "outputs": [
    {
     "name": "stdout",
     "output_type": "stream",
     "text": [
      "*\n",
      "**\n",
      "***\n",
      "****\n",
      "*****\n"
     ]
    }
   ],
   "source": [
    "n=5\n",
    "for i in range(1,n+1):\n",
    "    print(\"*\"*i)\n",
    "        "
   ]
  },
  {
   "cell_type": "code",
   "execution_count": 20,
   "metadata": {},
   "outputs": [
    {
     "name": "stdout",
     "output_type": "stream",
     "text": [
      "*****\n",
      "****\n",
      "***\n",
      "**\n",
      "*\n"
     ]
    }
   ],
   "source": [
    "n=5\n",
    "while n>0:\n",
    "    print((\"*\")*n)\n",
    "    \n",
    "    n-=1"
   ]
  },
  {
   "cell_type": "code",
   "execution_count": 39,
   "metadata": {},
   "outputs": [],
   "source": [
    " def add(*a):\n",
    "    \n",
    "        print(a)\n",
    "        \n",
    "a = (1,2)"
   ]
  },
  {
   "cell_type": "code",
   "execution_count": 40,
   "metadata": {},
   "outputs": [
    {
     "name": "stdout",
     "output_type": "stream",
     "text": [
      "((1, 2),)\n"
     ]
    }
   ],
   "source": [
    "add(a)"
   ]
  },
  {
   "cell_type": "code",
   "execution_count": 37,
   "metadata": {},
   "outputs": [
    {
     "name": "stdout",
     "output_type": "stream",
     "text": [
      "(1, 2)\n",
      "{'b': 10, 'c': 20}\n"
     ]
    }
   ],
   "source": [
    "def add(*a,**b):\n",
    "    print(a)\n",
    "    print(b)\n",
    "add(1,2,b=10,c=20)"
   ]
  },
  {
   "cell_type": "code",
   "execution_count": 43,
   "metadata": {},
   "outputs": [],
   "source": [
    "def fact(n):\n",
    "    if n<=1:\n",
    "        return 1\n",
    "    else:\n",
    "        return n*fact(n-1)"
   ]
  },
  {
   "cell_type": "code",
   "execution_count": 44,
   "metadata": {},
   "outputs": [
    {
     "data": {
      "text/plain": [
       "120"
      ]
     },
     "execution_count": 44,
     "metadata": {},
     "output_type": "execute_result"
    }
   ],
   "source": [
    "fact(5)"
   ]
  },
  {
   "cell_type": "code",
   "execution_count": null,
   "metadata": {},
   "outputs": [],
   "source": []
  },
  {
   "cell_type": "code",
   "execution_count": 5,
   "metadata": {},
   "outputs": [
    {
     "name": "stdout",
     "output_type": "stream",
     "text": [
      "True\n"
     ]
    },
    {
     "data": {
      "text/plain": [
       "False"
      ]
     },
     "execution_count": 5,
     "metadata": {},
     "output_type": "execute_result"
    }
   ],
   "source": [
    "def t():\n",
    "    print(\"True\")\n",
    "    return False\n",
    "def f():\n",
    "    print(\"False\")\n",
    "    return True\n",
    "\n",
    "t() and f()"
   ]
  },
  {
   "cell_type": "code",
   "execution_count": null,
   "metadata": {},
   "outputs": [],
   "source": []
  },
  {
   "cell_type": "code",
   "execution_count": null,
   "metadata": {},
   "outputs": [],
   "source": []
  }
 ],
 "metadata": {
  "kernelspec": {
   "display_name": "Python 3",
   "language": "python",
   "name": "python3"
  },
  "language_info": {
   "codemirror_mode": {
    "name": "ipython",
    "version": 3
   },
   "file_extension": ".py",
   "mimetype": "text/x-python",
   "name": "python",
   "nbconvert_exporter": "python",
   "pygments_lexer": "ipython3",
   "version": "3.6.4"
  }
 },
 "nbformat": 4,
 "nbformat_minor": 2
}
