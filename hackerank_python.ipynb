{
 "cells": [
  {
   "cell_type": "markdown",
   "metadata": {},
   "source": [
    "# prime or not"
   ]
  },
  {
   "cell_type": "code",
   "execution_count": 1,
   "metadata": {},
   "outputs": [
    {
     "name": "stdout",
     "output_type": "stream",
     "text": [
      "3\n",
      "3\n",
      "Prime\n",
      "5\n",
      "Prime\n",
      "9\n",
      "Not prime\n"
     ]
    }
   ],
   "source": [
    "import math\n",
    "\n",
    "def isPrime(n):\n",
    "    if n == 2:\n",
    "        return True\n",
    "    elif n == 1 or (n & 1) == 0:\n",
    "        return False\n",
    "        \n",
    "    for i in range(2, math.ceil(math.sqrt(n)) + 1):\n",
    "        if (n % i) == 0:\n",
    "            return False\n",
    "    \n",
    "    return True\n",
    "\n",
    "p = int(input())\n",
    "for i in range(0, p):\n",
    "    x = int(input())\n",
    "\n",
    "    s = \"Prime\" if (isPrime(x)) else \"Not prime\"\n",
    "    print(s);"
   ]
  },
  {
   "cell_type": "code",
   "execution_count": 1,
   "metadata": {},
   "outputs": [
    {
     "name": "stdout",
     "output_type": "stream",
     "text": [
      "enter number of test cases:3\n"
     ]
    }
   ],
   "source": [
    "p = int(input(\"enter number of test cases:\"))"
   ]
  },
  {
   "cell_type": "code",
   "execution_count": 4,
   "metadata": {},
   "outputs": [
    {
     "name": "stdout",
     "output_type": "stream",
     "text": [
      "1\n",
      "2\n",
      "3\n"
     ]
    }
   ],
   "source": [
    "arr=[]\n",
    "for i in range(0,p):\n",
    "    m = int(input())\n",
    "    arr.append(m)"
   ]
  },
  {
   "cell_type": "code",
   "execution_count": 5,
   "metadata": {},
   "outputs": [
    {
     "data": {
      "text/plain": [
       "[1, 2, 3]"
      ]
     },
     "execution_count": 5,
     "metadata": {},
     "output_type": "execute_result"
    }
   ],
   "source": [
    "arr"
   ]
  },
  {
   "cell_type": "code",
   "execution_count": 10,
   "metadata": {},
   "outputs": [
    {
     "name": "stdout",
     "output_type": "stream",
     "text": [
      "enter number:1,2,3,4\n"
     ]
    }
   ],
   "source": [
    "arr= [int(x)  for x in input(\"enter number:\").split(\",\")]"
   ]
  },
  {
   "cell_type": "code",
   "execution_count": 11,
   "metadata": {},
   "outputs": [
    {
     "data": {
      "text/plain": [
       "[1, 2, 3, 4]"
      ]
     },
     "execution_count": 11,
     "metadata": {},
     "output_type": "execute_result"
    }
   ],
   "source": [
    "arr"
   ]
  },
  {
   "cell_type": "code",
   "execution_count": 1,
   "metadata": {},
   "outputs": [],
   "source": [
    "a=3\n",
    "b=4"
   ]
  },
  {
   "cell_type": "code",
   "execution_count": 2,
   "metadata": {},
   "outputs": [
    {
     "name": "stdout",
     "output_type": "stream",
     "text": [
      "7\n"
     ]
    }
   ],
   "source": [
    "print(a+b)"
   ]
  },
  {
   "cell_type": "code",
   "execution_count": 3,
   "metadata": {},
   "outputs": [
    {
     "name": "stdout",
     "output_type": "stream",
     "text": [
      "123\n"
     ]
    }
   ],
   "source": [
    "print(\"1\"+\"2\"+\"3\")"
   ]
  },
  {
   "cell_type": "markdown",
   "metadata": {},
   "source": [
    "# triangle quest"
   ]
  },
  {
   "cell_type": "code",
   "execution_count": 4,
   "metadata": {},
   "outputs": [
    {
     "name": "stdout",
     "output_type": "stream",
     "text": [
      "5\n",
      "1\n",
      "22\n",
      "333\n",
      "4444\n"
     ]
    }
   ],
   "source": [
    "for i in range(1,int(input())): #More than 2 lines will result in 0 score. Do not leave a blank line also\n",
    "    print (int(i*(10**i-1)/9))\n"
   ]
  },
  {
   "cell_type": "code",
   "execution_count": 8,
   "metadata": {},
   "outputs": [
    {
     "name": "stdout",
     "output_type": "stream",
     "text": [
      "7\n",
      "13\n"
     ]
    }
   ],
   "source": [
    "def fibonacci(n):\n",
    "    # Write your code here.\n",
    "    \n",
    "    if n==0:\n",
    "        return 0\n",
    "    elif n==1:\n",
    "        return 1\n",
    "    else:\n",
    "        return fibonacci(n-1)+fibonacci(n-2)\n",
    "\n",
    "n = int(input())\n",
    "print(fibonacci(n))"
   ]
  },
  {
   "cell_type": "markdown",
   "metadata": {},
   "source": [
    "# balanced charstring"
   ]
  },
  {
   "cell_type": "code",
   "execution_count": 10,
   "metadata": {},
   "outputs": [],
   "source": [
    "def matched(string):\n",
    "    balanced = True\n",
    "    stack=[]\n",
    "    \n",
    "    i=0\n",
    "    while i in range(len(string)) and balanced:\n",
    "        char = string[i]\n",
    "        \n",
    "        if char in \"([{\":\n",
    "            stack.append(char)\n",
    "        \n",
    "        \n",
    "        else:\n",
    "            if len(stack)==0:\n",
    "                balanced = False\n",
    "                \n",
    "            else:\n",
    "                top = stack.pop()\n",
    "                if not matches(top,char):\n",
    "                    balanced = False\n",
    "            \n",
    "        i = i+1   \n",
    "        \n",
    "    \n",
    "    if len(stack)==0 and balanced:\n",
    "        return True\n",
    "    else:\n",
    "        return False"
   ]
  },
  {
   "cell_type": "code",
   "execution_count": 9,
   "metadata": {},
   "outputs": [],
   "source": [
    "def matches(open,close):\n",
    "    opens = \"([{\"\n",
    "    closes = \")]}\"\n",
    "    return opens.index(open) == closes.index(close)"
   ]
  },
  {
   "cell_type": "code",
   "execution_count": 12,
   "metadata": {},
   "outputs": [
    {
     "name": "stdout",
     "output_type": "stream",
     "text": [
      "enter no. of strings:3\n",
      "({)}\n",
      "no\n",
      "{{}}}\n",
      "no\n",
      "[[()[]]]\n",
      "yes\n"
     ]
    }
   ],
   "source": [
    "n = int(input(\"enter no. of strings:\"))\n",
    "for i in range(0,n):\n",
    "    string = input().strip()\n",
    "    \n",
    "    if matched(string)==True:\n",
    "        print(\"yes\")\n",
    "    else:\n",
    "        print(\"no\")"
   ]
  },
  {
   "cell_type": "markdown",
   "metadata": {},
   "source": [
    "# list comprehensions"
   ]
  },
  {
   "cell_type": "code",
   "execution_count": 16,
   "metadata": {},
   "outputs": [],
   "source": [
    "list = [(i,j,k) for i in range (x+1) for j in range(y+1) for k in range(z+1) if i+j+k!=n]"
   ]
  },
  {
   "cell_type": "code",
   "execution_count": 15,
   "metadata": {},
   "outputs": [
    {
     "name": "stdout",
     "output_type": "stream",
     "text": [
      "1\n",
      "1\n",
      "1\n",
      "2\n"
     ]
    }
   ],
   "source": [
    "x = int(input())\n",
    "y = int(input())\n",
    "z = int(input())\n",
    "n = int(input())\n"
   ]
  },
  {
   "cell_type": "code",
   "execution_count": 17,
   "metadata": {},
   "outputs": [
    {
     "data": {
      "text/plain": [
       "[(0, 0, 0), (0, 0, 1), (0, 1, 0), (1, 0, 0), (1, 1, 1)]"
      ]
     },
     "execution_count": 17,
     "metadata": {},
     "output_type": "execute_result"
    }
   ],
   "source": [
    "list"
   ]
  },
  {
   "cell_type": "markdown",
   "metadata": {},
   "source": [
    "# runner-up"
   ]
  },
  {
   "cell_type": "code",
   "execution_count": 1,
   "metadata": {},
   "outputs": [
    {
     "name": "stdout",
     "output_type": "stream",
     "text": [
      "3\n",
      "2 4 3\n",
      "3\n"
     ]
    }
   ],
   "source": [
    "n = int(input())\n",
    "arr = [int(x) for x in input().split()]\n",
    "maxim = max(arr)\n",
    "    \n",
    "while maxim == max(arr):\n",
    "    arr.remove(max(arr))\n",
    "print (max(arr))"
   ]
  },
  {
   "cell_type": "code",
   "execution_count": 18,
   "metadata": {},
   "outputs": [
    {
     "name": "stdout",
     "output_type": "stream",
     "text": [
      "enter no strings:3\n",
      "ish\n",
      "aan\n",
      "mankotia\n"
     ]
    }
   ],
   "source": [
    "n = int(input(\"enter no strings:\"))\n",
    "strq = []\n",
    "for i in range (0,n):\n",
    "    string = input()\n",
    "    strq.append(string)\n"
   ]
  },
  {
   "cell_type": "code",
   "execution_count": 22,
   "metadata": {},
   "outputs": [
    {
     "data": {
      "text/plain": [
       "['ish', 'aan', 'mankotia']"
      ]
     },
     "execution_count": 22,
     "metadata": {},
     "output_type": "execute_result"
    }
   ],
   "source": [
    "strq"
   ]
  },
  {
   "cell_type": "markdown",
   "metadata": {},
   "source": [
    "## sorting a dict by value"
   ]
  },
  {
   "cell_type": "code",
   "execution_count": 44,
   "metadata": {},
   "outputs": [
    {
     "name": "stdout",
     "output_type": "stream",
     "text": [
      "enter number of students:3\n",
      "name:ishaan\n",
      "marks:50\n",
      "name:nakul\n",
      "marks:30\n",
      "name:raghav\n",
      "marks:40\n"
     ]
    }
   ],
   "source": [
    "students = {}\n",
    "n = int(input(\"enter number of students:\"))\n",
    "\n",
    "for i in range(0,n):\n",
    "    key = input(\"name:\")\n",
    "    value = input(\"marks:\")\n",
    "    \n",
    "    students[key] = float(value)"
   ]
  },
  {
   "cell_type": "code",
   "execution_count": 45,
   "metadata": {},
   "outputs": [
    {
     "data": {
      "text/plain": [
       "[[50.0, 'ishaan'], [30.0, 'nakul'], [40.0, 'raghav']]"
      ]
     },
     "execution_count": 45,
     "metadata": {},
     "output_type": "execute_result"
    }
   ],
   "source": [
    "x = [[v,k] for (k,v) in students.items()]\n",
    "x"
   ]
  },
  {
   "cell_type": "code",
   "execution_count": 46,
   "metadata": {},
   "outputs": [
    {
     "data": {
      "text/plain": [
       "[[30.0, 'nakul'], [40.0, 'raghav'], [50.0, 'ishaan']]"
      ]
     },
     "execution_count": 46,
     "metadata": {},
     "output_type": "execute_result"
    }
   ],
   "source": [
    "y = sorted(x,key = lambda i:i[0])\n",
    "y"
   ]
  },
  {
   "cell_type": "code",
   "execution_count": 47,
   "metadata": {},
   "outputs": [
    {
     "data": {
      "text/plain": [
       "'ishaan'"
      ]
     },
     "execution_count": 47,
     "metadata": {},
     "output_type": "execute_result"
    }
   ],
   "source": [
    "max(y)[1]"
   ]
  },
  {
   "cell_type": "code",
   "execution_count": null,
   "metadata": {},
   "outputs": [],
   "source": []
  },
  {
   "cell_type": "code",
   "execution_count": 125,
   "metadata": {},
   "outputs": [
    {
     "name": "stdout",
     "output_type": "stream",
     "text": [
      "[50.0, 'nakul']\n",
      "[50.0, 'nakul']\n",
      "[50.0, 'nakul']\n"
     ]
    }
   ],
   "source": [
    "for key in students:\n",
    "    students.pop[key]"
   ]
  },
  {
   "cell_type": "markdown",
   "metadata": {},
   "source": [
    "# runnerup value"
   ]
  },
  {
   "cell_type": "code",
   "execution_count": 3,
   "metadata": {},
   "outputs": [
    {
     "name": "stdout",
     "output_type": "stream",
     "text": [
      "enter number of students:3\n",
      "name:ishaan\n",
      "marks:33.5\n",
      "name:daksh\n",
      "marks:35\n",
      "name:dj\n",
      "marks:34\n",
      "dj\n"
     ]
    }
   ],
   "source": [
    "#que1\n",
    "# marksheet = []\n",
    "# for _ in range(0,int(input())):\n",
    "#     marksheet.append([input(), float(input())])\n",
    "    \n",
    "marksheet = [[input(\"name:\"),float(input(\"marks:\"))] for x in range(int(input(\"enter number of students:\")))]\n",
    "\n",
    "second_highest = sorted(list(set([marks for name, marks in marksheet])))[1]\n",
    "print('\\n'.join([a for a,b in sorted(marksheet) if b == second_highest]))"
   ]
  },
  {
   "cell_type": "code",
   "execution_count": 1,
   "metadata": {},
   "outputs": [
    {
     "name": "stdout",
     "output_type": "stream",
     "text": [
      "3\n",
      "name:ishaan\n",
      "marks:33.5\n",
      "name:daksh\n",
      "marks:34.6\n",
      "name:dj\n",
      "marks:38\n",
      "[['ishaan', 33.5], ['daksh', 34.6], ['dj', 38.0]]\n",
      "[33.5, 34.6, 38.0]\n",
      "daksh\n"
     ]
    }
   ],
   "source": [
    "#que2\n",
    "a = [[input(\"name:\"), float(input(\"marks:\"))] for i in range(int(input()))]\n",
    "print(a)\n",
    "s = sorted(set([x[1] for x in a]))\n",
    "print(s)\n",
    "for name in sorted(x[0] for x in a if x[1] == s[1]):\n",
    "    print(name)"
   ]
  },
  {
   "cell_type": "code",
   "execution_count": 24,
   "metadata": {},
   "outputs": [],
   "source": [
    "# students = []\n",
    "# for i in range(int(input())):\n",
    "#     name = input()\n",
    "#     score = float(input())\n",
    "#     list = [name,score]\n",
    "#     students.append(list)\n",
    "# print(students)\n",
    "\n"
   ]
  },
  {
   "cell_type": "code",
   "execution_count": null,
   "metadata": {},
   "outputs": [],
   "source": []
  },
  {
   "cell_type": "code",
   "execution_count": 1,
   "metadata": {},
   "outputs": [
    {
     "name": "stdout",
     "output_type": "stream",
     "text": [
      "enter number of students:3\n",
      "name:ishaan\n",
      "score:33.5\n",
      "name:dj\n",
      "score:35\n",
      "name:daksh\n",
      "score:36\n",
      "[['ishaan', 33.5], ['dj', 35.0], ['daksh', 36.0]]\n"
     ]
    }
   ],
   "source": [
    "students = [[input(\"name:\"),float(input(\"score:\"))] for x in range(int(input(\"enter number of students:\")))]\n",
    "print(students)"
   ]
  },
  {
   "cell_type": "code",
   "execution_count": 2,
   "metadata": {},
   "outputs": [
    {
     "data": {
      "text/plain": [
       "[['ishaan', 33.5], ['dj', 35.0], ['daksh', 36.0]]"
      ]
     },
     "execution_count": 2,
     "metadata": {},
     "output_type": "execute_result"
    }
   ],
   "source": [
    "students"
   ]
  },
  {
   "cell_type": "code",
   "execution_count": 32,
   "metadata": {},
   "outputs": [
    {
     "name": "stdout",
     "output_type": "stream",
     "text": [
      "22.4\n",
      "33.5\n",
      "32.6\n"
     ]
    }
   ],
   "source": [
    "n=3\n",
    "for li in students:\n",
    "    print(li[1])"
   ]
  },
  {
   "cell_type": "code",
   "execution_count": 3,
   "metadata": {},
   "outputs": [],
   "source": [
    "s = sorted(students, key = lambda x: x[1])"
   ]
  },
  {
   "cell_type": "code",
   "execution_count": 4,
   "metadata": {},
   "outputs": [
    {
     "data": {
      "text/plain": [
       "[['ishaan', 33.5], ['dj', 35.0], ['daksh', 36.0]]"
      ]
     },
     "execution_count": 4,
     "metadata": {},
     "output_type": "execute_result"
    }
   ],
   "source": [
    "s"
   ]
  },
  {
   "cell_type": "code",
   "execution_count": 31,
   "metadata": {},
   "outputs": [
    {
     "name": "stdout",
     "output_type": "stream",
     "text": [
      "ish\n"
     ]
    }
   ],
   "source": [
    "lis = [x for x in input().split()]"
   ]
  },
  {
   "cell_type": "code",
   "execution_count": 32,
   "metadata": {},
   "outputs": [
    {
     "data": {
      "text/plain": [
       "['ish']"
      ]
     },
     "execution_count": 32,
     "metadata": {},
     "output_type": "execute_result"
    }
   ],
   "source": [
    "lis"
   ]
  },
  {
   "cell_type": "code",
   "execution_count": 34,
   "metadata": {},
   "outputs": [
    {
     "data": {
      "text/plain": [
       "['ABCD', 'efgh']"
      ]
     },
     "execution_count": 34,
     "metadata": {},
     "output_type": "execute_result"
    }
   ],
   "source": [
    "\"ABCD efgh\".split()"
   ]
  },
  {
   "cell_type": "code",
   "execution_count": null,
   "metadata": {},
   "outputs": [],
   "source": []
  }
 ],
 "metadata": {
  "kernelspec": {
   "display_name": "Python 3",
   "language": "python",
   "name": "python3"
  },
  "language_info": {
   "codemirror_mode": {
    "name": "ipython",
    "version": 3
   },
   "file_extension": ".py",
   "mimetype": "text/x-python",
   "name": "python",
   "nbconvert_exporter": "python",
   "pygments_lexer": "ipython3",
   "version": "3.6.4"
  }
 },
 "nbformat": 4,
 "nbformat_minor": 2
}
